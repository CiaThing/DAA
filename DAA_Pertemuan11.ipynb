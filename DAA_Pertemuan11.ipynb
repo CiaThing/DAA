{
  "nbformat": 4,
  "nbformat_minor": 0,
  "metadata": {
    "colab": {
      "provenance": [],
      "authorship_tag": "ABX9TyO0ZlmXvM9jKcFgAxeJjHLY",
      "include_colab_link": true
    },
    "kernelspec": {
      "name": "python3",
      "display_name": "Python 3"
    },
    "language_info": {
      "name": "python"
    }
  },
  "cells": [
    {
      "cell_type": "markdown",
      "metadata": {
        "id": "view-in-github",
        "colab_type": "text"
      },
      "source": [
        "<a href=\"https://colab.research.google.com/github/CiaThing/DAA/blob/main/DAA_Pertemuan11.ipynb\" target=\"_parent\"><img src=\"https://colab.research.google.com/assets/colab-badge.svg\" alt=\"Open In Colab\"/></a>"
      ]
    },
    {
      "cell_type": "code",
      "execution_count": 1,
      "metadata": {
        "id": "o5LKRahJMdxk"
      },
      "outputs": [],
      "source": [
        "# a-----b\n",
        "# /     /\n",
        "# /     /\n",
        "# c-----d-----e"
      ]
    },
    {
      "cell_type": "code",
      "source": [
        "# create the dictionary with graph elements\n",
        "graph = {'a' : ['b', 'c'],\n",
        "         'b' : ['a', 'c'],\n",
        "         'c' : ['a', 'd'],\n",
        "         'd' : ['e'],\n",
        "         'e' : ['d']\n",
        "         }\n",
        "# print the graph\n",
        "\n",
        "print (graph)"
      ],
      "metadata": {
        "colab": {
          "base_uri": "https://localhost:8080/"
        },
        "id": "O0VFvCHvUbWp",
        "outputId": "bbae8821-9947-4277-ee19-c116e539683a"
      },
      "execution_count": 2,
      "outputs": [
        {
          "output_type": "stream",
          "name": "stdout",
          "text": [
            "{'a': ['b', 'c'], 'b': ['a', 'c'], 'c': ['a', 'd'], 'd': ['e'], 'e': ['d']}\n"
          ]
        }
      ]
    },
    {
      "cell_type": "code",
      "source": [
        "#LATIHAN 1\n",
        "# S T U V W X Z\n",
        "\n",
        "graph1 = { \"S\" : [\"X\"],\n",
        "          \"T\" : [\"U\",\"W\"],\n",
        "          \"U\" : [\"T\",\"V\"],\n",
        "          \"V\" : [\"U\",\"X\"],\n",
        "          \"W\" : [\"T\",\"X\",\"Z\"],\n",
        "          \"X\" : [\"V\",\"W\",\"S\"],\n",
        "          \"Z\" : [\"W\"]}\n",
        "\n",
        "print (graph1)\n",
        "type (graph1)"
      ],
      "metadata": {
        "colab": {
          "base_uri": "https://localhost:8080/"
        },
        "id": "SOignkUuYANw",
        "outputId": "994e0328-3452-43c4-eb0e-23061ec27472"
      },
      "execution_count": 11,
      "outputs": [
        {
          "output_type": "stream",
          "name": "stdout",
          "text": [
            "{'S': ['X'], 'T': ['U', 'W'], 'U': ['T', 'V'], 'V': ['U', 'X'], 'W': ['T', 'X', 'Z'], 'X': ['V', 'W', 'S'], 'Z': ['W']}\n"
          ]
        },
        {
          "output_type": "execute_result",
          "data": {
            "text/plain": [
              "dict"
            ]
          },
          "metadata": {},
          "execution_count": 11
        }
      ]
    },
    {
      "cell_type": "code",
      "source": [
        "#LATIHAN 2\n",
        "#L M N O P R\n",
        "\n",
        "graph2 = { \"L\" : [\"P\",\"R\"],\n",
        "          \"M\" : [\"N\",\"O\"],\n",
        "          \"N\" : [\"M\",\"P\"],\n",
        "          \"O\" : [\"M\",\"P\",\"R\"],\n",
        "          \"P\" : [\"L\",\"N\",\"O\"],\n",
        "          \"R\" : [\"L\",\"O\"]}\n",
        "print(graph2)\n",
        "type(graph2)"
      ],
      "metadata": {
        "colab": {
          "base_uri": "https://localhost:8080/"
        },
        "id": "-2vdOzsVZIgE",
        "outputId": "bc47cb44-f4ee-4f14-aa20-29c1f207bd3b"
      },
      "execution_count": 5,
      "outputs": [
        {
          "output_type": "stream",
          "name": "stdout",
          "text": [
            "{'L': ['P', 'R'], 'M': ['N', 'O'], 'N': ['M', 'P'], 'O': ['M', 'P', 'R'], 'P': ['L', 'N', 'O'], 'R': ['L', 'O']}\n"
          ]
        },
        {
          "output_type": "execute_result",
          "data": {
            "text/plain": [
              "dict"
            ]
          },
          "metadata": {},
          "execution_count": 5
        }
      ]
    },
    {
      "cell_type": "code",
      "source": [
        "class graph:\n",
        "  def __init__(self, gdict = None):\n",
        "    if gdict is None:\n",
        "      gdict = []\n",
        "    self.gdict = gdict\n",
        "\n",
        "# get the keys of dictionary\n",
        "  def getVertices(self):\n",
        "    return list (self.gdict.keys())\n",
        "\n",
        "# create the dictionary with graph elements\n",
        "Graph = {  \"A\" : [\"B\",\"C\"],\n",
        "          \"B\" : [\"A\",\"D\"],\n",
        "          \"C\" : [\"A\",\"D\"],\n",
        "          \"D\" : [\"B\",\"C\",\"E\"],\n",
        "          \"E\" : [\"D\"]}\n",
        "g= graph(Graph)\n",
        "\n",
        "print(g.getVertices())"
      ],
      "metadata": {
        "colab": {
          "base_uri": "https://localhost:8080/"
        },
        "id": "yyRTMC06ZUEM",
        "outputId": "f0f55446-89ef-4ac7-e36e-2f20c1e31f00"
      },
      "execution_count": 10,
      "outputs": [
        {
          "output_type": "stream",
          "name": "stdout",
          "text": [
            "['A', 'B', 'C', 'D', 'E']\n"
          ]
        }
      ]
    },
    {
      "cell_type": "code",
      "source": [
        "#LATIHAN 3\n",
        "g = graph(graph1)\n",
        "print (g.getVertices())"
      ],
      "metadata": {
        "colab": {
          "base_uri": "https://localhost:8080/"
        },
        "id": "UspD49ZRZlF1",
        "outputId": "80afc1c8-95ed-4f0c-e34d-641a6e76dfed"
      },
      "execution_count": 12,
      "outputs": [
        {
          "output_type": "stream",
          "name": "stdout",
          "text": [
            "['S', 'T', 'U', 'V', 'W', 'X', 'Z']\n"
          ]
        }
      ]
    },
    {
      "cell_type": "code",
      "source": [
        "#LATIHAN 4\n",
        "romlpn = graph(graph2)\n",
        "print(romlpn.getVertices())"
      ],
      "metadata": {
        "colab": {
          "base_uri": "https://localhost:8080/"
        },
        "id": "CK504X91d5KV",
        "outputId": "da6a97f8-1f31-42bf-e7a2-eb1ceb8f8290"
      },
      "execution_count": 15,
      "outputs": [
        {
          "output_type": "stream",
          "name": "stdout",
          "text": [
            "['L', 'M', 'N', 'O', 'P', 'R']\n"
          ]
        }
      ]
    },
    {
      "cell_type": "code",
      "source": [
        "class graph:\n",
        "  def __init__(self,gdict=None):\n",
        "    if gdict is None:\n",
        "      gdict = []\n",
        "    self.gdict = gdict\n",
        "\n",
        "  def edges(self):\n",
        "    return self.finedges()\n",
        "\n",
        "#Mencari list hubungan antar vertex\n",
        "  def finedges(self):\n",
        "    edgename = []\n",
        "    for vrtx in self.gdict:\n",
        "      for nxtvrtx in self.gdict[vrtx]:\n",
        "        if {nxtvrtx, vrtx} not in edgename:\n",
        "          edgename.append({vrtx,nxtvrtx})\n",
        "    return edgename\n",
        "\n",
        "g = graph(Graph)\n",
        "print(g.edges())"
      ],
      "metadata": {
        "colab": {
          "base_uri": "https://localhost:8080/"
        },
        "id": "TTgD_htgegV8",
        "outputId": "9105e834-d245-476c-ed37-8484121e3881"
      },
      "execution_count": 16,
      "outputs": [
        {
          "output_type": "stream",
          "name": "stdout",
          "text": [
            "[{'A', 'B'}, {'A', 'C'}, {'B', 'D'}, {'D', 'C'}, {'D', 'E'}]\n"
          ]
        }
      ]
    },
    {
      "cell_type": "code",
      "source": [
        "# latihan 5\n",
        "print (graph(graph1).edges())"
      ],
      "metadata": {
        "colab": {
          "base_uri": "https://localhost:8080/"
        },
        "id": "V-tlGeJJen01",
        "outputId": "696da6ba-f037-47c8-a914-e024d10070c2"
      },
      "execution_count": 18,
      "outputs": [
        {
          "output_type": "stream",
          "name": "stdout",
          "text": [
            "[{'S', 'X'}, {'U', 'T'}, {'W', 'T'}, {'U', 'V'}, {'V', 'X'}, {'W', 'X'}, {'W', 'Z'}]\n"
          ]
        }
      ]
    },
    {
      "cell_type": "code",
      "source": [
        "#LATIHAN 6 \n",
        "romlpn_edge = graph(graph2)\n",
        "print(romlpn_edge.edges())"
      ],
      "metadata": {
        "colab": {
          "base_uri": "https://localhost:8080/"
        },
        "id": "ZBJqG-VefVfd",
        "outputId": "c0a7a85c-5ab4-407d-88c4-67cff9eb76bd"
      },
      "execution_count": 19,
      "outputs": [
        {
          "output_type": "stream",
          "name": "stdout",
          "text": [
            "[{'P', 'L'}, {'R', 'L'}, {'N', 'M'}, {'M', 'O'}, {'N', 'P'}, {'P', 'O'}, {'O', 'R'}]\n"
          ]
        }
      ]
    },
    {
      "cell_type": "code",
      "source": [
        "class graph:\n",
        "  def __init__(self,gdict=None):\n",
        "    if gdict is None:\n",
        "      gdict = []\n",
        "    self.gdict = gdict\n",
        "\n",
        "  def getVertices(self):\n",
        "    return list (self.gdict.keys())\n",
        "\n",
        "# Menambahkan vertex \n",
        "  def addvrtx(self, vrtx):\n",
        "    if vrtx not in self.gdict:\n",
        "      self.gdict[vrtx] = []\n",
        "\n",
        "g=graph(Graph)\n",
        "g.addvrtx(\"F\")\n",
        "print(g.getVertices())"
      ],
      "metadata": {
        "colab": {
          "base_uri": "https://localhost:8080/"
        },
        "id": "oqp-VVsRfo-V",
        "outputId": "522226ff-73cc-45dd-b6bf-fab25e9aa920"
      },
      "execution_count": 20,
      "outputs": [
        {
          "output_type": "stream",
          "name": "stdout",
          "text": [
            "['A', 'B', 'C', 'D', 'E', 'F']\n"
          ]
        }
      ]
    },
    {
      "cell_type": "code",
      "source": [
        "#LATIHAN 7 \n",
        "graph(graph1).addvrtx(\"Y\")\n",
        "print(graph(graph1).getVertices())"
      ],
      "metadata": {
        "colab": {
          "base_uri": "https://localhost:8080/"
        },
        "id": "o0SkTyhLh1vv",
        "outputId": "133ed2cf-3f91-4beb-849f-2527b45e44d9"
      },
      "execution_count": 21,
      "outputs": [
        {
          "output_type": "stream",
          "name": "stdout",
          "text": [
            "['S', 'T', 'U', 'V', 'W', 'X', 'Z', 'Y']\n"
          ]
        }
      ]
    },
    {
      "cell_type": "code",
      "source": [
        "#LATIHAN 8 \n",
        "\n",
        "romlpn_add = graph(graph2)\n",
        "romlpn_add.addvrtx(\"Q\")\n",
        "print(romlpn_add.getVertices())"
      ],
      "metadata": {
        "colab": {
          "base_uri": "https://localhost:8080/"
        },
        "id": "mlb4mdN6lcbT",
        "outputId": "3f01ecc3-9f25-45da-9328-96ff4209f86d"
      },
      "execution_count": 22,
      "outputs": [
        {
          "output_type": "stream",
          "name": "stdout",
          "text": [
            "['L', 'M', 'N', 'O', 'P', 'R', 'Q']\n"
          ]
        }
      ]
    },
    {
      "cell_type": "code",
      "source": [
        "class graph:\n",
        "  def __init__(self,gdict=None):\n",
        "    if gdict is None:\n",
        "      gdict = []\n",
        "    self.gdict = gdict\n",
        "\n",
        "  def edges(self):\n",
        "    return self.finedges()\n",
        "\n",
        "# Menambahkan edge baru \n",
        "  def addEdge(self,edge):\n",
        "    edge = set(edge)\n",
        "    (vrtx1,vrtx2) = tuple(edge)\n",
        "    if vrtx1 in self.gdict:\n",
        "      self.gdict[vrtx1].append(vrtx2)\n",
        "    else:\n",
        "       self.gdict[vrtx1] = [vrtx2]\n",
        "\n",
        "# List nama edge \n",
        "  def finedges(self):\n",
        "    edgename = []\n",
        "    for vrtx in self.gdict:\n",
        "      for nxtvrtx in self.gdict[vrtx]:\n",
        "        if {nxtvrtx, vrtx} not in edgename:\n",
        "          edgename.append({vrtx,nxtvrtx})\n",
        "    return edgename\n",
        "\n",
        "g=graph(Graph)\n",
        "g.addEdge({'A','E'})\n",
        "g.addEdge({'E','C'})\n",
        "print(g.edges())"
      ],
      "metadata": {
        "colab": {
          "base_uri": "https://localhost:8080/"
        },
        "id": "o6pjwwNKlnHP",
        "outputId": "dc8f0fee-9916-42df-dfa8-33b417fd3b6b"
      },
      "execution_count": 23,
      "outputs": [
        {
          "output_type": "stream",
          "name": "stdout",
          "text": [
            "[{'A', 'B'}, {'A', 'C'}, {'A', 'E'}, {'B', 'D'}, {'D', 'C'}, {'C', 'E'}, {'D', 'E'}]\n"
          ]
        }
      ]
    },
    {
      "cell_type": "code",
      "source": [
        "#Latihan 9\n",
        "\n",
        "g=graph(graph1)\n",
        "g.addEdge({'Y','Z'})\n",
        "print(g.edges())"
      ],
      "metadata": {
        "colab": {
          "base_uri": "https://localhost:8080/"
        },
        "id": "eZSzCF2ElwEP",
        "outputId": "08cfb6bc-9ee8-4029-de89-dd4a1e3e2116"
      },
      "execution_count": 24,
      "outputs": [
        {
          "output_type": "stream",
          "name": "stdout",
          "text": [
            "[{'S', 'X'}, {'U', 'T'}, {'W', 'T'}, {'U', 'V'}, {'V', 'X'}, {'W', 'X'}, {'W', 'Z'}, {'Z', 'Y'}]\n"
          ]
        }
      ]
    },
    {
      "cell_type": "code",
      "source": [
        "#Latihan 10\n",
        "g=graph(graph2)\n",
        "g.addEdge({'Q','R'})\n",
        "print(g.edges())"
      ],
      "metadata": {
        "colab": {
          "base_uri": "https://localhost:8080/"
        },
        "id": "K9GaaG8tl5Gd",
        "outputId": "a846f868-092a-4e18-deee-54e094e710c4"
      },
      "execution_count": 26,
      "outputs": [
        {
          "output_type": "stream",
          "name": "stdout",
          "text": [
            "[{'P', 'L'}, {'R', 'L'}, {'N', 'M'}, {'M', 'O'}, {'N', 'P'}, {'P', 'O'}, {'O', 'R'}, {'Q', 'R'}]\n"
          ]
        }
      ]
    }
  ]
}