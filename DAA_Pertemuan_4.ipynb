{
  "nbformat": 4,
  "nbformat_minor": 0,
  "metadata": {
    "colab": {
      "provenance": [],
      "authorship_tag": "ABX9TyOr9MiQWuCDj7fcE8Ps7Hk3",
      "include_colab_link": true
    },
    "kernelspec": {
      "name": "python3",
      "display_name": "Python 3"
    },
    "language_info": {
      "name": "python"
    }
  },
  "cells": [
    {
      "cell_type": "markdown",
      "metadata": {
        "id": "view-in-github",
        "colab_type": "text"
      },
      "source": [
        "<a href=\"https://colab.research.google.com/github/CiaThing/DAA/blob/main/DAA_Pertemuan_4.ipynb\" target=\"_parent\"><img src=\"https://colab.research.google.com/assets/colab-badge.svg\" alt=\"Open In Colab\"/></a>"
      ]
    },
    {
      "cell_type": "code",
      "execution_count": 2,
      "metadata": {
        "colab": {
          "base_uri": "https://localhost:8080/"
        },
        "id": "cV71GTQr4duu",
        "outputId": "451da0a3-cb1e-4746-f8ad-7090d3760a51"
      },
      "outputs": [
        {
          "output_type": "stream",
          "name": "stdout",
          "text": [
            "2 1\n"
          ]
        }
      ],
      "source": [
        "# fungsi swap variabel ketiga\n",
        "var1 = 1\n",
        "var2 = 2\n",
        "var3 = 3\n",
        "var1, var2 = var2, var1\n",
        "print (var1, var2)"
      ]
    },
    {
      "cell_type": "code",
      "source": [
        "var1, var2, var3 = var1, var2, var3\n",
        "print (var1, var2, var3)"
      ],
      "metadata": {
        "colab": {
          "base_uri": "https://localhost:8080/"
        },
        "id": "Bml8FexyT-e1",
        "outputId": "6670c87f-190a-4585-be12-76eeb18c0efc"
      },
      "execution_count": 3,
      "outputs": [
        {
          "output_type": "stream",
          "name": "stdout",
          "text": [
            "2 1 3\n"
          ]
        }
      ]
    },
    {
      "cell_type": "code",
      "source": [
        "list = [7, 5, 4, 3, 6, 8, 9]"
      ],
      "metadata": {
        "id": "K_KjuUFmUfFa"
      },
      "execution_count": 6,
      "outputs": []
    },
    {
      "cell_type": "code",
      "source": [
        "Last_Element_Index = len(list)-1\n",
        "print (0, list)\n",
        "for idx in range (Last_Element_Index):\n",
        "  if list [idx] > list [idx+1]:\n",
        "    list [idx], list [idx+1] = list [idx+1], list [idx]\n",
        "  print (idx+1, list)\n"
      ],
      "metadata": {
        "colab": {
          "base_uri": "https://localhost:8080/"
        },
        "id": "oLNistzUVIcb",
        "outputId": "9364eba8-0ad2-4724-f2f0-c98235e6880a"
      },
      "execution_count": 7,
      "outputs": [
        {
          "output_type": "stream",
          "name": "stdout",
          "text": [
            "0 [7, 5, 4, 3, 6, 8, 9]\n",
            "1 [5, 7, 4, 3, 6, 8, 9]\n",
            "2 [5, 4, 7, 3, 6, 8, 9]\n",
            "3 [5, 4, 3, 7, 6, 8, 9]\n",
            "4 [5, 4, 3, 6, 7, 8, 9]\n",
            "5 [5, 4, 3, 6, 7, 8, 9]\n",
            "6 [5, 4, 3, 6, 7, 8, 9]\n"
          ]
        }
      ]
    },
    {
      "cell_type": "code",
      "source": [
        "list"
      ],
      "metadata": {
        "colab": {
          "base_uri": "https://localhost:8080/"
        },
        "id": "UROVHhnHWwYY",
        "outputId": "527c584c-74de-42ab-bb82-12c41a58088c"
      },
      "execution_count": 8,
      "outputs": [
        {
          "output_type": "execute_result",
          "data": {
            "text/plain": [
              "[5, 4, 3, 6, 7, 8, 9]"
            ]
          },
          "metadata": {},
          "execution_count": 8
        }
      ]
    },
    {
      "cell_type": "code",
      "source": [
        "def BubbleSort (list):\n",
        "  Last_Element_Index = len(list)-1\n",
        "  for passNum in range (Last_Element_Index, 0, -1):\n",
        "    for idx in range (passNum):\n",
        "      if list [idx] > list [idx+1]:\n",
        "        list [idx], list [idx+1] = list[idx+1], list[idx]\n",
        "  return list"
      ],
      "metadata": {
        "id": "3d6SVEE8jMTn"
      },
      "execution_count": 9,
      "outputs": []
    },
    {
      "cell_type": "code",
      "source": [
        "list = [7, 5, 4, 3, 6, 8, 9]\n",
        "BubbleSort(list)"
      ],
      "metadata": {
        "colab": {
          "base_uri": "https://localhost:8080/"
        },
        "id": "ARi1-hW4kera",
        "outputId": "de78c7b8-daf0-4c95-b857-9fc13883b71c"
      },
      "execution_count": 12,
      "outputs": [
        {
          "output_type": "execute_result",
          "data": {
            "text/plain": [
              "[3, 4, 5, 6, 7, 8, 9]"
            ]
          },
          "metadata": {},
          "execution_count": 12
        }
      ]
    },
    {
      "cell_type": "code",
      "source": [
        "list"
      ],
      "metadata": {
        "colab": {
          "base_uri": "https://localhost:8080/"
        },
        "id": "UEaMHGOyk5He",
        "outputId": "03b955ff-d501-499d-aa87-52d52c704121"
      },
      "execution_count": 13,
      "outputs": [
        {
          "output_type": "execute_result",
          "data": {
            "text/plain": [
              "[3, 4, 5, 6, 7, 8, 9]"
            ]
          },
          "metadata": {},
          "execution_count": 13
        }
      ]
    },
    {
      "cell_type": "code",
      "source": [
        "list = [100, 20, 60, 90, 40, 30, 10]\n",
        "BubbleSort(list)"
      ],
      "metadata": {
        "colab": {
          "base_uri": "https://localhost:8080/"
        },
        "id": "AU9KIa3hk8nH",
        "outputId": "62f90d16-cfeb-4f97-b302-ebb6094643ed"
      },
      "execution_count": 15,
      "outputs": [
        {
          "output_type": "execute_result",
          "data": {
            "text/plain": [
              "[10, 20, 30, 40, 60, 90, 100]"
            ]
          },
          "metadata": {},
          "execution_count": 15
        }
      ]
    },
    {
      "cell_type": "code",
      "source": [
        "def InsertionSort (list):\n",
        "  for i in range (1, len(list)):\n",
        "    j = i - 1\n",
        "    next = list[i]\n",
        "# membandingan element saat ini dengan element selanjutnya\n",
        "\n",
        "    while (list[j] > next) and (j >= 0):\n",
        "      list [j+1] = list[j]\n",
        "      j = j - 1\n",
        "      list [j+1] = next\n",
        "  return list "
      ],
      "metadata": {
        "id": "BjSheekOlJnv"
      },
      "execution_count": 25,
      "outputs": []
    },
    {
      "cell_type": "code",
      "source": [
        "list = [10, 23, 45, 21, 33, 87]\n",
        "InsertionSort (list)"
      ],
      "metadata": {
        "colab": {
          "base_uri": "https://localhost:8080/"
        },
        "id": "G1Vfy1OLpOjb",
        "outputId": "ca28b253-685a-403e-e606-ca9889a53908"
      },
      "execution_count": 26,
      "outputs": [
        {
          "output_type": "execute_result",
          "data": {
            "text/plain": [
              "[10, 21, 23, 33, 45, 87]"
            ]
          },
          "metadata": {},
          "execution_count": 26
        }
      ]
    },
    {
      "cell_type": "code",
      "source": [
        "list = [89, 12, 57, 16, 25, 11, 75]\n",
        "InsertionSort (list)"
      ],
      "metadata": {
        "colab": {
          "base_uri": "https://localhost:8080/"
        },
        "id": "4BTRmz8cp8xs",
        "outputId": "13f8e3e2-3ec9-49f6-e07d-0c1cc9ecafef"
      },
      "execution_count": 27,
      "outputs": [
        {
          "output_type": "execute_result",
          "data": {
            "text/plain": [
              "[11, 12, 16, 25, 57, 75, 89]"
            ]
          },
          "metadata": {},
          "execution_count": 27
        }
      ]
    },
    {
      "cell_type": "code",
      "source": [
        "def SelectionSort (list):\n",
        "  for fill_slot in range (len(list) - 1, 0, -1 ):\n",
        "    max_index = 0\n",
        "    for location in range (1, fill_slot + 1):\n",
        "      if list [location] > list[max_index]:\n",
        "        max_index = location\n",
        "    list [fill_slot], list [max_index] = list [max_index], list[fill_slot]\n",
        "  return list"
      ],
      "metadata": {
        "id": "F3lIdEWzqdba"
      },
      "execution_count": 30,
      "outputs": []
    },
    {
      "cell_type": "code",
      "source": [
        "list = [70, 15, 25, 19, 34, 44]\n",
        "SelectionSort (list)"
      ],
      "metadata": {
        "colab": {
          "base_uri": "https://localhost:8080/"
        },
        "id": "Nz-2MJS-rfMv",
        "outputId": "bf515d44-6be6-4d54-aa1e-401afe134a2a"
      },
      "execution_count": 31,
      "outputs": [
        {
          "output_type": "execute_result",
          "data": {
            "text/plain": [
              "[15, 19, 25, 34, 44, 70]"
            ]
          },
          "metadata": {},
          "execution_count": 31
        }
      ]
    },
    {
      "cell_type": "code",
      "source": [
        "list = [89, 12, 57, 16, 25]\n",
        "SelectionSort (list)"
      ],
      "metadata": {
        "colab": {
          "base_uri": "https://localhost:8080/"
        },
        "id": "QxjyVTttr5p1",
        "outputId": "7a6571a1-8f3e-426e-92b3-77be6cb6112d"
      },
      "execution_count": 32,
      "outputs": [
        {
          "output_type": "execute_result",
          "data": {
            "text/plain": [
              "[12, 16, 25, 57, 89]"
            ]
          },
          "metadata": {},
          "execution_count": 32
        }
      ]
    },
    {
      "cell_type": "code",
      "source": [
        "def LinearSearch (list, item):\n",
        "  index = 0\n",
        "  found = False\n",
        "# mencocokan nilai dengan masing-masing element data\n",
        "\n",
        "  while index < len(list) and found is False:\n",
        "    if list[index] == item:\n",
        "      found = True\n",
        "    else :\n",
        "      index = index + 1\n",
        "  return found\n",
        "\n"
      ],
      "metadata": {
        "id": "xRzU244GsjHy"
      },
      "execution_count": 33,
      "outputs": []
    },
    {
      "cell_type": "code",
      "source": [
        "list = [12, 33, 11, 99, 22, 55, 90]\n",
        "print (LinearSearch(list, 12))\n",
        "print (LinearSearch(list, 91))"
      ],
      "metadata": {
        "colab": {
          "base_uri": "https://localhost:8080/"
        },
        "id": "aB2S7I3gz3Em",
        "outputId": "2f5d5d93-2ed8-48da-c109-55fc2910e7bc"
      },
      "execution_count": 34,
      "outputs": [
        {
          "output_type": "stream",
          "name": "stdout",
          "text": [
            "True\n",
            "False\n"
          ]
        }
      ]
    },
    {
      "cell_type": "code",
      "source": [
        "list = ['y', 'u', 'i', 'w', 'o', 'a', 'q', 'u', 'j', 'p']\n",
        "print (LinearSearch(list, 'a'))"
      ],
      "metadata": {
        "colab": {
          "base_uri": "https://localhost:8080/"
        },
        "id": "ZT8asupX0FXn",
        "outputId": "0628f629-6c9e-4d18-8b1c-85ffcda80bde"
      },
      "execution_count": 35,
      "outputs": [
        {
          "output_type": "stream",
          "name": "stdout",
          "text": [
            "True\n"
          ]
        }
      ]
    },
    {
      "cell_type": "code",
      "source": [
        "def BinarySearch (list, item):\n",
        "  first = 0\n",
        "  last = len(list) - 1\n",
        "  found = False\n",
        "\n",
        "  while first < last and not found :\n",
        "    midpoint = (first + last)//2\n",
        "    if list [midpoint] == item:\n",
        "      found = True\n",
        "    else :\n",
        "      if item < list [midpoint]:\n",
        "        last = midpoint\n",
        "      else :\n",
        "        first = midpoint + 1\n",
        "  return found"
      ],
      "metadata": {
        "id": "X9U7oA3P0-XT"
      },
      "execution_count": 36,
      "outputs": []
    },
    {
      "cell_type": "code",
      "source": [
        "list = [12, 33, 11, 99, 22, 55, 90]\n",
        "sorted_list = BubbleSort(list)\n",
        "print (BinarySearch (sorted_list, 12))\n",
        "print (BinarySearch (sorted_list, 91))"
      ],
      "metadata": {
        "colab": {
          "base_uri": "https://localhost:8080/"
        },
        "id": "UmQDNmyo2KT7",
        "outputId": "acc2046d-6e41-4f55-8289-41db8a46e7cc"
      },
      "execution_count": 40,
      "outputs": [
        {
          "output_type": "stream",
          "name": "stdout",
          "text": [
            "True\n",
            "False\n"
          ]
        }
      ]
    },
    {
      "cell_type": "code",
      "source": [
        "list = ['y', 'u', 'i', 'w', 'o', 'a', 'q', 'u', 'j', 'p']\n",
        "sorted_list = BubbleSort(list)\n",
        "print (BinarySearch (sorted_list, 'a'))"
      ],
      "metadata": {
        "colab": {
          "base_uri": "https://localhost:8080/"
        },
        "id": "V3IdSf5W3EFM",
        "outputId": "20362f0e-2f69-4223-d8b6-46a5e9b36e08"
      },
      "execution_count": 43,
      "outputs": [
        {
          "output_type": "stream",
          "name": "stdout",
          "text": [
            "True\n"
          ]
        }
      ]
    },
    {
      "cell_type": "code",
      "source": [
        "def IntPolSearch (list, x):\n",
        "  idx0 = 0\n",
        "  idxn = (len(list) - 1)\n",
        "  found = False\n",
        "  while idx0 <= idxn and x >= list [idx0] and x <= list [idxn]:\n",
        "    mid = idx0 + int(((float (idxn - idx0) / (list [idxn] - list [idx0])) * ( x - list [idx0])))\n",
        "\n",
        "    if list [mid] == x:\n",
        "      found = True\n",
        "      return found\n",
        "\n",
        "    if list [mid] < x:\n",
        "      idx0 = mid + 1\n",
        "  return found\n"
      ],
      "metadata": {
        "id": "Z8AwxRVp4HSs"
      },
      "execution_count": 44,
      "outputs": []
    },
    {
      "cell_type": "code",
      "source": [
        "list = [12, 33, 11, 99, 22, 55, 90]\n",
        "sorted_list = BubbleSort(list)\n",
        "print (IntPolSearch (sorted_list, 12))\n",
        "print (IntPolSearch (sorted_list, 91))"
      ],
      "metadata": {
        "colab": {
          "base_uri": "https://localhost:8080/"
        },
        "id": "8BW7ifsJ6ZXC",
        "outputId": "5af56eae-33e3-4086-d904-eec682855974"
      },
      "execution_count": 46,
      "outputs": [
        {
          "output_type": "stream",
          "name": "stdout",
          "text": [
            "True\n",
            "False\n"
          ]
        }
      ]
    },
    {
      "cell_type": "code",
      "source": [
        "list = ['y', 'u', 'i', 'w', 'o', 'a', 'q', 'u', 'j', 'p']\n",
        "sorted_list = BubbleSort(list)"
      ],
      "metadata": {
        "id": "iJ1k4aq16taN"
      },
      "execution_count": 51,
      "outputs": []
    }
  ]
}