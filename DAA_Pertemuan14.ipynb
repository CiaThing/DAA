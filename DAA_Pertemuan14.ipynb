{
  "nbformat": 4,
  "nbformat_minor": 0,
  "metadata": {
    "colab": {
      "provenance": [],
      "authorship_tag": "ABX9TyPzxQHQ9B62IhVwKG652CJp",
      "include_colab_link": true
    },
    "kernelspec": {
      "name": "python3",
      "display_name": "Python 3"
    },
    "language_info": {
      "name": "python"
    }
  },
  "cells": [
    {
      "cell_type": "markdown",
      "metadata": {
        "id": "view-in-github",
        "colab_type": "text"
      },
      "source": [
        "<a href=\"https://colab.research.google.com/github/CiaThing/DAA/blob/main/DAA_Pertemuan14.ipynb\" target=\"_parent\"><img src=\"https://colab.research.google.com/assets/colab-badge.svg\" alt=\"Open In Colab\"/></a>"
      ]
    },
    {
      "cell_type": "code",
      "execution_count": 1,
      "metadata": {
        "id": "NfLFlr1tFOWP"
      },
      "outputs": [],
      "source": [
        "import networkx as nx\n",
        "import matplotlib.pyplot as plt"
      ]
    },
    {
      "cell_type": "code",
      "source": [
        "vertices = range (1,10)\n",
        "edges = [(7, 2), (2, 3), (7, 4), (4, 5), (7, 3), (7, 5),\n",
        "         (1, 6), (1, 7), (2, 8), (2, 9)]\n",
        "G = nx.Graph()\n",
        "\n",
        "G.add_nodes_from (vertices)\n",
        "G.add_edges_from (edges)\n",
        "pos = nx.spring_layout (G)"
      ],
      "metadata": {
        "id": "lAKxtLu0FRHZ"
      },
      "execution_count": 3,
      "outputs": []
    },
    {
      "cell_type": "code",
      "source": [
        "nx.draw_networkx_nodes (G, pos, nodelist = [1, 4, 3, 8, 9],\n",
        "                        node_color = 'green',\n",
        "                        node_size = 900)"
      ],
      "metadata": {
        "colab": {
          "base_uri": "https://localhost:8080/",
          "height": 266
        },
        "id": "7ewR1oNZFTKn",
        "outputId": "7d446fff-5683-4b9f-9049-d0145bb91c5d"
      },
      "execution_count": 19,
      "outputs": [
        {
          "output_type": "execute_result",
          "data": {
            "text/plain": [
              "<matplotlib.collections.PathCollection at 0x7fd622207b50>"
            ]
          },
          "metadata": {},
          "execution_count": 19
        },
        {
          "output_type": "display_data",
          "data": {
            "text/plain": [
              "<Figure size 432x288 with 1 Axes>"
            ],
            "image/png": "[encoded data removed]"
          },
          "metadata": {}
        }
      ]
    },
    {
      "cell_type": "code",
      "source": [
        "nx.draw_networkx_nodes (G, pos, nodelist = [2, 5, 6, 7],\n",
        "                        node_color = 'red',\n",
        "                        node_size = 900)"
      ],
      "metadata": {
        "colab": {
          "base_uri": "https://localhost:8080/",
          "height": 266
        },
        "id": "LKUK3gsqF8hp",
        "outputId": "d43ee4d0-724e-442b-d699-777562f41afa"
      },
      "execution_count": 20,
      "outputs": [
        {
          "output_type": "execute_result",
          "data": {
            "text/plain": [
              "<matplotlib.collections.PathCollection at 0x7fd62216f6d0>"
            ]
          },
          "metadata": {},
          "execution_count": 20
        },
        {
          "output_type": "display_data",
          "data": {
            "text/plain": [
              "<Figure size 432x288 with 1 Axes>"
            ],
            "image/png": "[encoded data removed]"
          },
          "metadata": {}
        }
      ]
    },
    {
      "cell_type": "code",
      "source": [
        "nx.draw_networkx_edges (G, pos, edges, width = 3, alpha = 0.5,\n",
        "                        edge_color = 'blue')\n",
        "\n",
        "labels = {}\n",
        "labels [1] = r'1 NF'\n",
        "labels [2] = r'2 NF'\n",
        "labels [3] = r'3 NF'\n",
        "labels [4] = r'4 NF'\n",
        "labels [5] = r'5 NF'\n",
        "labels [6] = r'6 NF'\n",
        "labels [7] = r'7 NF'\n",
        "labels [8] = r'8 NF'\n",
        "labels [9] = r'9 NF'\n",
        "\n",
        "nx.draw_networkx_labels (G, pos, labels, font_size = 12 )"
      ],
      "metadata": {
        "colab": {
          "base_uri": "https://localhost:8080/",
          "height": 410
        },
        "id": "gq5Gue9OGKRB",
        "outputId": "77f5291b-e7d2-4cf1-86c8-da7b2baabb7e"
      },
      "execution_count": 21,
      "outputs": [
        {
          "output_type": "execute_result",
          "data": {
            "text/plain": [
              "{1: Text(0.5805695308213872, -0.2897636004211805, '1 NF'),\n",
              " 2: Text(-0.30197031047699835, 0.35694925099734404, '2 NF'),\n",
              " 3: Text(0.0066530840589390785, 0.23895223531076715, '3 NF'),\n",
              " 4: Text(0.014181736603549005, -0.5644165630975847, '4 NF'),\n",
              " 5: Text(-0.2317874523943166, -0.47892190865402534, '5 NF'),\n",
              " 6: Text(1.0, -0.4239107927192889, '6 NF'),\n",
              " 7: Text(0.035784264157072115, -0.1345567227378726, '7 NF'),\n",
              " 8: Text(-0.7368566001256046, 0.4860880690532391, '8 NF'),\n",
              " 9: Text(-0.36657425264402677, 0.8095800322686016, '9 NF')}"
            ]
          },
          "metadata": {},
          "execution_count": 21
        },
        {
          "output_type": "display_data",
          "data": {
            "text/plain": [
              "<Figure size 432x288 with 1 Axes>"
            ],
            "image/png": "[encoded data removed]"
          },
          "metadata": {}
        }
      ]
    }
  ]
}