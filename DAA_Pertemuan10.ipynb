{
  "nbformat": 4,
  "nbformat_minor": 0,
  "metadata": {
    "colab": {
      "provenance": [],
      "authorship_tag": "ABX9TyO09rsz3lQD9eReIBuIEKoi",
      "include_colab_link": true
    },
    "kernelspec": {
      "name": "python3",
      "display_name": "Python 3"
    },
    "language_info": {
      "name": "python"
    }
  },
  "cells": [
    {
      "cell_type": "markdown",
      "metadata": {
        "id": "view-in-github",
        "colab_type": "text"
      },
      "source": [
        "<a href=\"https://colab.research.google.com/github/CiaThing/DAA/blob/main/DAA_Pertemuan10.ipynb\" target=\"_parent\"><img src=\"https://colab.research.google.com/assets/colab-badge.svg\" alt=\"Open In Colab\"/></a>"
      ]
    },
    {
      "cell_type": "code",
      "source": [
        "pip install pulp==2.6.0"
      ],
      "metadata": {
        "colab": {
          "base_uri": "https://localhost:8080/"
        },
        "id": "sFbKoRVEPHbT",
        "outputId": "7c2f14ac-5ae2-4be8-f2d0-b44686b92fc9"
      },
      "execution_count": 6,
      "outputs": [
        {
          "output_type": "stream",
          "name": "stdout",
          "text": [
            "Looking in indexes: https://pypi.org/simple, https://us-python.pkg.dev/colab-wheels/public/simple/\n",
            "Requirement already satisfied: pulp==2.6.0 in /usr/local/lib/python3.7/dist-packages (2.6.0)\n"
          ]
        }
      ]
    },
    {
      "cell_type": "code",
      "execution_count": 7,
      "metadata": {
        "id": "p4_rOqdcN19M"
      },
      "outputs": [],
      "source": [
        "import pulp\n",
        "import numpy as np\n",
        "from scipy.optimize import linprog"
      ]
    },
    {
      "cell_type": "code",
      "source": [
        "model = pulp.LpProblem (\"ProfitMaximisingProblem\", pulp.LpMaximize)"
      ],
      "metadata": {
        "id": "R-TQZRGsOJA7"
      },
      "execution_count": 8,
      "outputs": []
    },
    {
      "cell_type": "code",
      "source": [
        "A = pulp.LpVariable ('A', lowBound = 0, cat = 'Integer')\n",
        "B = pulp.LpVariable ('B', lowBound = 0, cat = 'Integer')"
      ],
      "metadata": {
        "id": "myYykpm7Oybo"
      },
      "execution_count": 9,
      "outputs": []
    },
    {
      "cell_type": "code",
      "source": [
        "model += 5000*A + 2500*B, \"Profit\"\n",
        "#constrains\n",
        "model += 3*A + 2*B <= 20\n",
        "model += 4*A + 3*B <= 30\n",
        "model += 4*A + 3*B <= 44"
      ],
      "metadata": {
        "id": "gdsT040RPbGr"
      },
      "execution_count": null,
      "outputs": []
    },
    {
      "cell_type": "code",
      "source": [
        "model.solve()\n",
        "pulp.LpStatus[model.status]"
      ],
      "metadata": {
        "colab": {
          "base_uri": "https://localhost:8080/",
          "height": 35
        },
        "id": "CC1gxQmLQFeH",
        "outputId": "12d81468-7a69-47d6-ab3a-c3a00a188e26"
      },
      "execution_count": 13,
      "outputs": [
        {
          "output_type": "execute_result",
          "data": {
            "text/plain": [
              "'Optimal'"
            ],
            "application/vnd.google.colaboratory.intrinsic+json": {
              "type": "string"
            }
          },
          "metadata": {},
          "execution_count": 13
        }
      ]
    },
    {
      "cell_type": "code",
      "source": [
        "print (A.varValue)\n",
        "print (B.varValue)"
      ],
      "metadata": {
        "colab": {
          "base_uri": "https://localhost:8080/"
        },
        "id": "Teg3EfPnRIgz",
        "outputId": "0789de5d-75cf-421b-a0dd-036a46107d87"
      },
      "execution_count": 14,
      "outputs": [
        {
          "output_type": "stream",
          "name": "stdout",
          "text": [
            "6.0\n",
            "1.0\n"
          ]
        }
      ]
    },
    {
      "cell_type": "code",
      "source": [
        "#print fungsi objektif\n",
        "\n",
        "print (pulp.value (model. objective))"
      ],
      "metadata": {
        "colab": {
          "base_uri": "https://localhost:8080/"
        },
        "id": "QcF6J5OORpRS",
        "outputId": "6a45c5c9-0bea-415a-a667-90fdc6633c3c"
      },
      "execution_count": 15,
      "outputs": [
        {
          "output_type": "stream",
          "name": "stdout",
          "text": [
            "32500.0\n"
          ]
        }
      ]
    },
    {
      "cell_type": "code",
      "source": [
        "# latihan mencari x + y\n",
        "\n",
        "X = pulp.LpVariable ('X', lowBound = 0, cat = 'Integer')\n",
        "Y = pulp.LpVariable ('Y', lowBound = 0, cat = 'Integer')"
      ],
      "metadata": {
        "id": "UbmftNIWR1K6"
      },
      "execution_count": 18,
      "outputs": []
    },
    {
      "cell_type": "code",
      "source": [
        "model += 4*X + 3*Y == 34\n",
        "model += 5*X + 1*Y == 37"
      ],
      "metadata": {
        "id": "bN33SRdASYol"
      },
      "execution_count": 19,
      "outputs": []
    },
    {
      "cell_type": "code",
      "source": [
        "model.solve()\n",
        "pulp.LpStatus [model.status]"
      ],
      "metadata": {
        "colab": {
          "base_uri": "https://localhost:8080/",
          "height": 35
        },
        "id": "YUtqGUn4Szh_",
        "outputId": "5de11deb-172b-499f-c56e-2978b9c829e2"
      },
      "execution_count": 20,
      "outputs": [
        {
          "output_type": "execute_result",
          "data": {
            "text/plain": [
              "'Optimal'"
            ],
            "application/vnd.google.colaboratory.intrinsic+json": {
              "type": "string"
            }
          },
          "metadata": {},
          "execution_count": 20
        }
      ]
    },
    {
      "cell_type": "code",
      "source": [
        "# print hasil variabel X dan Y\n",
        "print (X.varValue)\n",
        "print (Y.varValue) "
      ],
      "metadata": {
        "colab": {
          "base_uri": "https://localhost:8080/"
        },
        "id": "TeKv_ZuQTGSf",
        "outputId": "37db9ba4-ae53-4604-8ade-beecaf392fa2"
      },
      "execution_count": 21,
      "outputs": [
        {
          "output_type": "stream",
          "name": "stdout",
          "text": [
            "7.0\n",
            "2.0\n"
          ]
        }
      ]
    },
    {
      "cell_type": "code",
      "source": [
        "# latihan 2\n",
        "\n",
        "# x adalah harga satuan pensil\n",
        "x = pulp.LpVariable ('x', lowBound = 0, cat = 'Integer')\n",
        "\n",
        "# y adalah harga satuan buku\n",
        "y = pulp.LpVariable ('y', lowBound = 0, cat = 'Integer')"
      ],
      "metadata": {
        "id": "W_AHystiTVii"
      },
      "execution_count": 23,
      "outputs": []
    },
    {
      "cell_type": "code",
      "source": [
        "# membuat model\n",
        "\n",
        "model += 3*x + 4*y == 11000\n",
        "model += 1*x + 7*y == 15000\n",
        "model += 2*x + 6*y, 'Hasil'\n"
      ],
      "metadata": {
        "id": "TYK04vG2UUZU"
      },
      "execution_count": 25,
      "outputs": []
    },
    {
      "cell_type": "code",
      "source": [
        "model.solve()\n",
        "pulp.LpStatus [model.status]"
      ],
      "metadata": {
        "colab": {
          "base_uri": "https://localhost:8080/",
          "height": 35
        },
        "id": "1L0sT0uGU7CO",
        "outputId": "98de7f8e-9540-42da-9e22-2b9039bc8251"
      },
      "execution_count": 26,
      "outputs": [
        {
          "output_type": "execute_result",
          "data": {
            "text/plain": [
              "'Optimal'"
            ],
            "application/vnd.google.colaboratory.intrinsic+json": {
              "type": "string"
            }
          },
          "metadata": {},
          "execution_count": 26
        }
      ]
    },
    {
      "cell_type": "code",
      "source": [
        "# print variabel x dan y\n",
        "\n",
        "print (x.varValue)\n",
        "print (y.varValue)"
      ],
      "metadata": {
        "colab": {
          "base_uri": "https://localhost:8080/"
        },
        "id": "2PwfxhI_VXIQ",
        "outputId": "8de7b6f4-af43-46fb-ed0e-1042fdd12ce2"
      },
      "execution_count": 28,
      "outputs": [
        {
          "output_type": "stream",
          "name": "stdout",
          "text": [
            "1000.0\n",
            "2000.0\n"
          ]
        }
      ]
    },
    {
      "cell_type": "code",
      "source": [
        "# print fungsi objektif\n",
        "\n",
        "print (pulp.value (model.objective))"
      ],
      "metadata": {
        "colab": {
          "base_uri": "https://localhost:8080/"
        },
        "id": "FC6QcZ59VhEC",
        "outputId": "f3827129-1ea9-4d58-a6d8-420e76a9740c"
      },
      "execution_count": 29,
      "outputs": [
        {
          "output_type": "stream",
          "name": "stdout",
          "text": [
            "14000.0\n"
          ]
        }
      ]
    },
    {
      "cell_type": "code",
      "source": [
        "# latihan 3\n",
        "\n",
        "# variabel panjang adalah panjang persegi panjang\n",
        "panjang = pulp.LpVariable ('panjang', lowBound = 0, cat = 'Integer')\n",
        "\n",
        "# variabel lebar adalah lebar persegi panjang\n",
        "lebar = pulp.LpVariable ('lebar', lowBound = 0, cat = 'Integer')"
      ],
      "metadata": {
        "id": "ENPGMIw_Vwnh"
      },
      "execution_count": 31,
      "outputs": []
    },
    {
      "cell_type": "code",
      "source": [
        "model += 2*panjang + 2*lebar == 44\n",
        "model += 2*panjang + 2*(panjang - 6) == 44"
      ],
      "metadata": {
        "id": "i1GHMFgdWY-d"
      },
      "execution_count": 35,
      "outputs": []
    },
    {
      "cell_type": "code",
      "source": [
        "model.solve()\n",
        "pulp.LpStatus [model.status]"
      ],
      "metadata": {
        "colab": {
          "base_uri": "https://localhost:8080/",
          "height": 35
        },
        "id": "bKKTTLwJXCu3",
        "outputId": "2a915451-2b95-4b6c-b4ae-b562fd8a8bdd"
      },
      "execution_count": 36,
      "outputs": [
        {
          "output_type": "execute_result",
          "data": {
            "text/plain": [
              "'Optimal'"
            ],
            "application/vnd.google.colaboratory.intrinsic+json": {
              "type": "string"
            }
          },
          "metadata": {},
          "execution_count": 36
        }
      ]
    },
    {
      "cell_type": "code",
      "source": [
        "# print variabel panjang dan lebar \n",
        "\n",
        "print (panjang.varValue)\n",
        "print (lebar.varValue)"
      ],
      "metadata": {
        "colab": {
          "base_uri": "https://localhost:8080/"
        },
        "id": "EeFT6-AuXI4n",
        "outputId": "5350c7b7-85b7-41a3-fabc-5e1ea3997d6a"
      },
      "execution_count": 37,
      "outputs": [
        {
          "output_type": "stream",
          "name": "stdout",
          "text": [
            "14.0\n",
            "8.0\n"
          ]
        }
      ]
    },
    {
      "cell_type": "code",
      "source": [
        "A = np.array ([[1, 0], [2, 3], [1, 1], [-1, 0], [0, -1]])\n",
        "b = np.array ([16, 19, 8, 0, 0])\n",
        "c = ([-5, -7])"
      ],
      "metadata": {
        "id": "ydQ5fHJpXPjK"
      },
      "execution_count": 38,
      "outputs": []
    },
    {
      "cell_type": "code",
      "source": [
        "res = linprog (c, A_ub = A, b_ub = b)"
      ],
      "metadata": {
        "id": "GGsW2ZNyYH5q"
      },
      "execution_count": 39,
      "outputs": []
    },
    {
      "cell_type": "code",
      "source": [
        "# print hasil\n",
        "\n",
        "print ('Optimal values : ', round (res.fun*-1, ndigits = 2),\n",
        "       '\\nx values : ', res.x,\n",
        "       '\\nNumber of iterations performed : ', res.nit,\n",
        "       '\\nStatus : ', res.message)"
      ],
      "metadata": {
        "colab": {
          "base_uri": "https://localhost:8080/"
        },
        "id": "3zWaFUXzYVHU",
        "outputId": "70beb3fb-96cd-434a-8037-da70652f3e82"
      },
      "execution_count": 40,
      "outputs": [
        {
          "output_type": "stream",
          "name": "stdout",
          "text": [
            "Optimal values :  46.0 \n",
            "x values :  [5. 3.] \n",
            "Number of iterations performed :  5 \n",
            "Status :  Optimization terminated successfully.\n"
          ]
        }
      ]
    },
    {
      "cell_type": "code",
      "source": [
        "# latihan 4\n",
        "\n",
        "A = np.array([[4,12],[2,1]])\n",
        "b = np.array([28,21])\n",
        "c = np.array([-1, -1])"
      ],
      "metadata": {
        "id": "E3TDMmYHY4Mw"
      },
      "execution_count": 72,
      "outputs": []
    },
    {
      "cell_type": "code",
      "source": [
        "res = linprog(c, A_ub=A, b_ub=b)"
      ],
      "metadata": {
        "id": "RHSWEfYfcAa3"
      },
      "execution_count": 50,
      "outputs": []
    },
    {
      "cell_type": "code",
      "source": [
        "print('Optimal Valus:', round(res.fun*-1, ndigits=2),\n",
        "      '\\nx values:', res.x,\n",
        "      '\\nNumber of iterations performed:', res.nit,\n",
        "      '\\nStatus:', res.message)"
      ],
      "metadata": {
        "colab": {
          "base_uri": "https://localhost:8080/"
        },
        "id": "sC1JP_E9cokr",
        "outputId": "b13207a2-1464-4493-a849-de4a729400c5"
      },
      "execution_count": 51,
      "outputs": [
        {
          "output_type": "stream",
          "name": "stdout",
          "text": [
            "Optimal Valus: 7.0 \n",
            "x values: [7.00000000e+00 6.25789029e-13] \n",
            "Number of iterations performed: 5 \n",
            "Status: Optimization terminated successfully.\n"
          ]
        }
      ]
    },
    {
      "cell_type": "code",
      "source": [
        "# latihan 5\n",
        "A = np.array ([[3, 4], [1, 1], [-1, 0], [0, -1]])\n",
        "b = np.array ([55, 16, 0, 0])\n",
        "c = np.array ([-1, -1])"
      ],
      "metadata": {
        "id": "6tVMchVWe2Dg"
      },
      "execution_count": 75,
      "outputs": []
    },
    {
      "cell_type": "code",
      "source": [
        "res = linprog(c, A_ub=A, b_ub=b)"
      ],
      "metadata": {
        "id": "bnEse6_4e2cs"
      },
      "execution_count": 76,
      "outputs": []
    },
    {
      "cell_type": "code",
      "source": [
        "print('Optimal Valus:', round(res.fun*-1, ndigits=2),\n",
        "      '\\nx values:', res.x,\n",
        "      '\\nNumber of iterations performed:', res.nit,\n",
        "      '\\nStatus:', res.message)"
      ],
      "metadata": {
        "colab": {
          "base_uri": "https://localhost:8080/"
        },
        "id": "1oDV-6Tle2l0",
        "outputId": "061d1d97-7668-4639-e959-1f9fe5d17db6"
      },
      "execution_count": 77,
      "outputs": [
        {
          "output_type": "stream",
          "name": "stdout",
          "text": [
            "Optimal Valus: 16.0 \n",
            "x values: [11.28137676  4.71862324] \n",
            "Number of iterations performed: 5 \n",
            "Status: Optimization terminated successfully.\n"
          ]
        }
      ]
    }
  ]
}