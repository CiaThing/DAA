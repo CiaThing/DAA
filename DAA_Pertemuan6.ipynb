{
  "nbformat": 4,
  "nbformat_minor": 0,
  "metadata": {
    "colab": {
      "provenance": [],
      "collapsed_sections": [],
      "include_colab_link": true
    },
    "kernelspec": {
      "name": "python3",
      "display_name": "Python 3"
    },
    "language_info": {
      "name": "python"
    }
  },
  "cells": [
    {
      "cell_type": "markdown",
      "metadata": {
        "id": "view-in-github",
        "colab_type": "text"
      },
      "source": [
        "<a href=\"https://colab.research.google.com/github/CiaThing/DAA/blob/main/DAA_Pertemuan6.ipynb\" target=\"_parent\"><img src=\"https://colab.research.google.com/assets/colab-badge.svg\" alt=\"Open In Colab\"/></a>"
      ]
    },
    {
      "cell_type": "code",
      "execution_count": 2,
      "metadata": {
        "colab": {
          "base_uri": "https://localhost:8080/"
        },
        "id": "inPs73_0TigE",
        "outputId": "c25dd7cc-fe4b-471b-92de-a4e6f9211a65"
      },
      "outputs": [
        {
          "output_type": "stream",
          "name": "stdout",
          "text": [
            "How many terms? 20\n",
            "Fibonacci sequence :\n",
            "0\n",
            "1\n",
            "1\n",
            "2\n",
            "3\n",
            "5\n",
            "8\n",
            "13\n",
            "21\n",
            "34\n",
            "55\n",
            "89\n",
            "144\n",
            "233\n",
            "377\n",
            "610\n",
            "987\n",
            "1597\n",
            "2584\n",
            "4181\n"
          ]
        }
      ],
      "source": [
        "# first two items\n",
        "n1, n2 = 0, 1\n",
        "count = 0\n",
        "nterms = int (input( 'How many terms? ' ))\n",
        "# check if the number of terms is valid\n",
        "if nterms <= 0:\n",
        "  print ('Please enter the positive integer')\n",
        "elif nterms == 1:\n",
        "  print ( 'Fibonacci sequence up to', nterms, ' :')\n",
        "  print (n1)\n",
        "else :\n",
        "  print ('Fibonacci sequence :')\n",
        "  while count < nterms:\n",
        "    print (n1)\n",
        "    nth = n1 + n2\n",
        "    # update value\n",
        "    n1 = n2\n",
        "    n2 = nth\n",
        "    count = count + 1"
      ]
    },
    {
      "cell_type": "code",
      "source": [
        "# Fibonacci dengan rekursi\n",
        "def rekursi_fibo (n):\n",
        "  if n <= 1:\n",
        "    return n\n",
        "  else :\n",
        "    return ( rekursi_fibo (n-1) + rekursi_fibo (n-2))\n",
        "nterms = 20\n",
        "\n",
        "# cek apakah nilai nterms valid\n",
        "\n",
        "if nterms <= 0:\n",
        "  print ( 'Please enter a positive integer')\n",
        "else :\n",
        "  print ( 'Fibonacci sequence :')\n",
        "  for i in range (nterms):\n",
        "    print (rekursi_fibo (i))"
      ],
      "metadata": {
        "colab": {
          "base_uri": "https://localhost:8080/"
        },
        "id": "wIF0TYs3VVXM",
        "outputId": "259bbf46-3b01-41a4-f439-da28f91a23f6"
      },
      "execution_count": 3,
      "outputs": [
        {
          "output_type": "stream",
          "name": "stdout",
          "text": [
            "Fibonacci sequence :\n",
            "0\n",
            "1\n",
            "1\n",
            "2\n",
            "3\n",
            "5\n",
            "8\n",
            "13\n",
            "21\n",
            "34\n",
            "55\n",
            "89\n",
            "144\n",
            "233\n",
            "377\n",
            "610\n",
            "987\n",
            "1597\n",
            "2584\n",
            "4181\n"
          ]
        }
      ]
    },
    {
      "cell_type": "code",
      "source": [
        "# Latihan fibonacci 30 angka, bisa input, rekursif\n",
        "\n",
        "def latihan_recur_fibo (n):\n",
        "  if n <= 1:\n",
        "    return n\n",
        "  else :\n",
        "    return ( latihan_recur_fibo (n-1) + latihan_recur_fibo (n-2))\n",
        "\n",
        "nterms = int (input ('How many terms? '))\n",
        "\n",
        "# cek apakah nilai nterms valid\n",
        "\n",
        "if nterms <= 0:\n",
        "  print ( 'Please enter a positive integer')\n",
        "else : \n",
        "  print ( 'Fibonacci sequence :')\n",
        "  for i in range (nterms):\n",
        "    print (latihan_recur_fibo (i))"
      ],
      "metadata": {
        "colab": {
          "base_uri": "https://localhost:8080/"
        },
        "id": "SRAOpjySWqhA",
        "outputId": "ddbe6a3d-6cd7-4ee4-9cb9-dc5e83188cf3"
      },
      "execution_count": 4,
      "outputs": [
        {
          "output_type": "stream",
          "name": "stdout",
          "text": [
            "How many terms? 30\n",
            "Fibonacci sequence :\n",
            "0\n",
            "1\n",
            "1\n",
            "2\n",
            "3\n",
            "5\n",
            "8\n",
            "13\n",
            "21\n",
            "34\n",
            "55\n",
            "89\n",
            "144\n",
            "233\n",
            "377\n",
            "610\n",
            "987\n",
            "1597\n",
            "2584\n",
            "4181\n",
            "6765\n",
            "10946\n",
            "17711\n",
            "28657\n",
            "46368\n",
            "75025\n",
            "121393\n",
            "196418\n",
            "317811\n",
            "514229\n"
          ]
        }
      ]
    },
    {
      "cell_type": "code",
      "source": [
        "%matplotlib inline\n",
        "import matplotlib.pyplot as plt\n",
        "\n",
        "def visualize_tour (tour, style='bo-'):\n",
        "  if len(tour) > 10000: plt.figure( fgsize=(15,10))\n",
        "  start = tour[0:1]\n",
        "  visualize_segment (tour + start, style)\n",
        "  visualize_segment (start, 'rD')\n",
        "def visualize_segment (segment, style='bo-'):\n",
        "  plt.plot ([X(c) for c in segment], [Y(c) for c in segment], style, clip_on=False)\n",
        "  plt.axis ('scaled')\n",
        "  plt.axis ('off')\n",
        "\n",
        "def X(city): \"X axis\"; return city.real\n",
        "def Y(city): \"Y axis\"; return city.imag"
      ],
      "metadata": {
        "id": "J-XP6Y6RYBY0"
      },
      "execution_count": 15,
      "outputs": []
    },
    {
      "cell_type": "code",
      "source": [
        "from time import process_time\n",
        "from collections import Counter\n",
        "def tsp (algorithm, cities):\n",
        "  t0 = process_time()\n",
        "  tour = algorithm(cities)\n",
        "  t1 = process_time ()\n",
        "  assert Counter (tour) == Counter (cities)\n",
        "  visualize_tour (tour)\n",
        "  print (\"{}:{} cities => tour length {:.0f}(in {:.3f} sec)\".format (name(algorithm), len(tour), distance_tour(tour), t1-t0))\n",
        "\n",
        "def name (algorithm): \n",
        "  return algorithm.__name__.replace('_tsp','')"
      ],
      "metadata": {
        "id": "WFBoo8GBZVfY"
      },
      "execution_count": 6,
      "outputs": []
    },
    {
      "cell_type": "code",
      "source": [
        "def greedy_algorithm (cities, start=None):\n",
        "  C = start or first (cities)\n",
        "  tour = [C]\n",
        "  unvisited = set ( cities - {C})\n",
        "  while unvisited :\n",
        "    C = nearest_neighbor (C, unvisited)\n",
        "    tour.append (C)\n",
        "    unvisited.remove (C)\n",
        "  return tour \n",
        "\n",
        "def first ( collection):\n",
        "  return next( iter( collection))\n",
        "def nearest_neighbor ( A, cities):\n",
        "  return min (cities, key = lambda C: distance_points (C, A))"
      ],
      "metadata": {
        "id": "VVGOUgDAd-nk"
      },
      "execution_count": 7,
      "outputs": []
    },
    {
      "cell_type": "code",
      "source": [
        "import random\n",
        "from itertools import permutations\n",
        "\n",
        "alltours = permutations\n",
        "aCity = complex\n",
        "\n",
        "def distance_points(first, second):\n",
        "    return abs(first - second)\n",
        "\n",
        "def distance_tour(aTour):\n",
        "    return sum(distance_points(aTour[i - 1], aTour[i]) for i in range(len(aTour)))\n",
        "\n",
        "def generate_cities(nCities):\n",
        "    seed = 111 \n",
        "    width = 500\n",
        "    height = 300\n",
        "\n",
        "    random.seed((nCities, seed))\n",
        "    return frozenset(aCity(random.randint(1, width), random.randint(1, height)) for c in range(nCities))"
      ],
      "metadata": {
        "id": "Av-MqsJagLDJ"
      },
      "execution_count": 8,
      "outputs": []
    },
    {
      "cell_type": "code",
      "source": [
        "tsp (greedy_algorithm, generate_cities (10))"
      ],
      "metadata": {
        "colab": {
          "base_uri": "https://localhost:8080/",
          "height": 265
        },
        "id": "69k_fGxsZYxH",
        "outputId": "15a27a4c-2a32-4f2e-fc50-2271c7812947"
      },
      "execution_count": 9,
      "outputs": [
        {
          "output_type": "stream",
          "name": "stdout",
          "text": [
            "greedy_algorithm:10 cities => tour length 1348(in 0.000 sec)\n"
          ]
        },
        {
          "output_type": "display_data",
          "data": {
            "text/plain": [
              "<Figure size 432x288 with 1 Axes>"
            ],
            "image/png": "[encoded data removed]"
          },
          "metadata": {
            "needs_background": "light"
          }
        }
      ]
    },
    {
      "cell_type": "code",
      "source": [
        "tsp(greedy_algorithm, generate_cities(2000))"
      ],
      "metadata": {
        "colab": {
          "base_uri": "https://localhost:8080/",
          "height": 249
        },
        "id": "t-jXO1TEv1aK",
        "outputId": "dba414d9-7d54-4417-d8fa-e9661aff43da"
      },
      "execution_count": 16,
      "outputs": [
        {
          "output_type": "stream",
          "name": "stdout",
          "text": [
            "greedy_algorithm:1991 cities => tour length 15846(in 0.593 sec)\n"
          ]
        },
        {
          "output_type": "display_data",
          "data": {
            "text/plain": [
              "<Figure size 432x288 with 1 Axes>"
            ],
            "image/png": "[encoded data removed]"
          },
          "metadata": {
            "needs_background": "light"
          }
        }
      ]
    },
    {
      "cell_type": "code",
      "source": [
        "string = 'BCAADDDCCACACAC'\n",
        "\n",
        "# creating tree nodes\n",
        "class NodeTree (object):\n",
        "  def __init__(self, left=None, right = None):\n",
        "    self.left = left\n",
        "    self.right = right\n",
        "  \n",
        "  def children (self):\n",
        "    return (self.left, self.right)\n",
        "  \n",
        "  def nodes (self):\n",
        "    return ( self.left, self.right)\n",
        "  \n",
        "  def __str__(self):\n",
        "    return '%s_%s' % (self.left, self.right)"
      ],
      "metadata": {
        "id": "KkUSCrjDdUu-"
      },
      "execution_count": 10,
      "outputs": []
    },
    {
      "cell_type": "code",
      "source": [
        "# Main function implementing huffman coding \n",
        "\n",
        "def huffman_code_tree (node, left = True, binstring = ''):\n",
        "  if type (node) is str:\n",
        "    return {node : binstring}\n",
        "  (l, r) = node.children()\n",
        "  d = dict()\n",
        "  d.update (huffman_code_tree (l, True, binstring + '0'))\n",
        "  d.update (huffman_code_tree (r, False, binstring +'1'))\n",
        "  return d"
      ],
      "metadata": {
        "id": "gQOgHkuOjO8r"
      },
      "execution_count": 12,
      "outputs": []
    },
    {
      "cell_type": "code",
      "source": [
        "# calculating frequency\n",
        "freq = {}\n",
        "for c in string:\n",
        "  if c in freq:\n",
        "    freq [c] = freq [c] + 1\n",
        "  else :\n",
        "    freq [c] = 1\n",
        "\n",
        "freq = sorted (freq.items(), key = lambda x: x[1], reverse = True)\n",
        "nodes = freq\n",
        "while len(nodes) > 1:\n",
        "  (key1, c1) = nodes [-1]\n",
        "  (key2, c2) = nodes [-2]\n",
        "  nodes = nodes [ : -2]\n",
        "  node = NodeTree (key1, key2)\n",
        "  nodes.append ((node, c1 + c2))\n",
        "\n",
        "  nodes = sorted (nodes, key = lambda x: x[1], reverse = True)\n",
        "\n",
        "huffmanCode = huffman_code_tree(nodes [0][0])\n",
        "\n",
        "print ('Char | Huffman code ')\n",
        "print ('-----------------------')\n",
        "for (char, frequency) in freq:\n",
        "  print (' %-4r |%12s ' % (char, huffmanCode [char]))"
      ],
      "metadata": {
        "colab": {
          "base_uri": "https://localhost:8080/"
        },
        "id": "6_J9KOf7n6xf",
        "outputId": "98c5505c-d9d8-40c3-c890-3e5308063c0a"
      },
      "execution_count": 19,
      "outputs": [
        {
          "output_type": "stream",
          "name": "stdout",
          "text": [
            "Char | Huffman code \n",
            "-----------------------\n",
            " 'C'  |           0 \n",
            " 'A'  |          11 \n",
            " 'D'  |         101 \n",
            " 'B'  |         100 \n"
          ]
        }
      ]
    },
    {
      "cell_type": "code",
      "source": [
        "string = 'HUFFMAN'\n",
        "\n",
        "print(' char | Huffman code ')\n",
        "print('========================')\n",
        "for (char, frequency) in freq:\n",
        "  print(' %-4r |%12s' % (char, huffmanCode[char]))"
      ],
      "metadata": {
        "colab": {
          "base_uri": "https://localhost:8080/"
        },
        "id": "R0UJICTKwp8A",
        "outputId": "4e402019-1f08-4120-98c1-22ee422023a0"
      },
      "execution_count": 20,
      "outputs": [
        {
          "output_type": "stream",
          "name": "stdout",
          "text": [
            " char | Huffman code \n",
            "========================\n",
            " 'C'  |           0\n",
            " 'A'  |          11\n",
            " 'D'  |         101\n",
            " 'B'  |         100\n"
          ]
        }
      ]
    }
  ]
}