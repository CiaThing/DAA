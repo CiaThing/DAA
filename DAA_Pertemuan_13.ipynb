{
  "nbformat": 4,
  "nbformat_minor": 0,
  "metadata": {
    "colab": {
      "provenance": [],
      "authorship_tag": "ABX9TyOWNoUMDnO3gkoLG2C/W9sr",
      "include_colab_link": true
    },
    "kernelspec": {
      "name": "python3",
      "display_name": "Python 3"
    },
    "language_info": {
      "name": "python"
    }
  },
  "cells": [
    {
      "cell_type": "markdown",
      "metadata": {
        "id": "view-in-github",
        "colab_type": "text"
      },
      "source": [
        "<a href=\"https://colab.research.google.com/github/CiaThing/DAA/blob/main/DAA_Pertemuan_13.ipynb\" target=\"_parent\"><img src=\"https://colab.research.google.com/assets/colab-badge.svg\" alt=\"Open In Colab\"/></a>"
      ]
    },
    {
      "cell_type": "code",
      "execution_count": 9,
      "metadata": {
        "id": "TT0pMhua-czZ"
      },
      "outputs": [],
      "source": [
        "def bfs (graph, start):\n",
        "  visited = []\n",
        "  queue = [start]\n",
        "\n",
        "  while queue :\n",
        "    node = queue.pop(0)\n",
        "    if node not in visited:\n",
        "      visited.append (node)\n",
        "      neighbours = graph [node]\n",
        "      for neighbour in neighbours:\n",
        "        queue.append (neighbour)\n",
        "\n",
        "  return visited"
      ]
    },
    {
      "cell_type": "code",
      "source": [
        "graph = { 'Amin' : {'Wasim', 'Nick', 'Mike'},\n",
        "          'Wasim' : {'Imran', 'Amin'},\n",
        "          'Imran' : {'Wasim', 'Faras'},\n",
        "          'Faras' : {'Imran'},\n",
        "          'Mike' : {'Amin'},\n",
        "          'Nick' : {'Amin'}}"
      ],
      "metadata": {
        "id": "vwJKMU4C_i45"
      },
      "execution_count": 16,
      "outputs": []
    },
    {
      "cell_type": "code",
      "source": [
        "bfs (graph, 'Amin')"
      ],
      "metadata": {
        "colab": {
          "base_uri": "https://localhost:8080/"
        },
        "id": "mbgr772PAOZw",
        "outputId": "f11ea264-9d7c-461d-bbeb-d6d9cb34641b"
      },
      "execution_count": 17,
      "outputs": [
        {
          "output_type": "execute_result",
          "data": {
            "text/plain": [
              "['Amin', 'Mike', 'Wasim', 'Nick', 'Imran', 'Faras']"
            ]
          },
          "metadata": {},
          "execution_count": 17
        }
      ]
    },
    {
      "cell_type": "code",
      "source": [
        "bfs (graph, 'Wasim')"
      ],
      "metadata": {
        "colab": {
          "base_uri": "https://localhost:8080/"
        },
        "id": "rGoRVb91C75f",
        "outputId": "32108b1d-cbd1-4d94-ec66-a6101be43ecf"
      },
      "execution_count": 18,
      "outputs": [
        {
          "output_type": "execute_result",
          "data": {
            "text/plain": [
              "['Wasim', 'Amin', 'Imran', 'Mike', 'Nick', 'Faras']"
            ]
          },
          "metadata": {},
          "execution_count": 18
        }
      ]
    },
    {
      "cell_type": "code",
      "source": [
        "bfs (graph, 'Faras')"
      ],
      "metadata": {
        "colab": {
          "base_uri": "https://localhost:8080/"
        },
        "id": "UtnMiS1KDtza",
        "outputId": "f3ca2107-f7a1-47d6-8112-137da07dc249"
      },
      "execution_count": 19,
      "outputs": [
        {
          "output_type": "execute_result",
          "data": {
            "text/plain": [
              "['Faras', 'Imran', 'Wasim', 'Amin', 'Mike', 'Nick']"
            ]
          },
          "metadata": {},
          "execution_count": 19
        }
      ]
    },
    {
      "cell_type": "code",
      "source": [
        "graphRektor = { 'Rektor' : {'Warek 1', 'Warek 2'},\n",
        "                'Warek 1' : {'Rektor'},\n",
        "                'Warek 2' : {'Rektor', 'Kaprodi 1', 'Kaprodi 2', 'Kaprodi 3'},\n",
        "                'Kaprodi 1' : {'Dosen A', 'Dosen B', 'Dosen C', 'Warek 2'},\n",
        "                'Kaprodi 2' : {'Warek 2', 'Dosen D', 'Dosen E'},\n",
        "                'Kaprodi 3' : {'Warek 2', 'Dosen F', 'Dosen G'},\n",
        "                'Dosen A' : {'Kaprodi 1'},\n",
        "                'Dosen B' : {'Kaprodi 1'},\n",
        "                'Dosen C' : {'Kaprodi 1'},\n",
        "                'Dosen D' : {'Kaprodi 2'},\n",
        "                'Dosen E' : {'Kaprodi 2'},\n",
        "                'Dosen F' : {'Kaprodi 3'},\n",
        "                'Dosen G' : {'Kaprodi 3'}}"
      ],
      "metadata": {
        "id": "0_Og4oQaD1o3"
      },
      "execution_count": 28,
      "outputs": []
    },
    {
      "cell_type": "code",
      "source": [
        "bfs (graphRektor, 'Rektor')"
      ],
      "metadata": {
        "colab": {
          "base_uri": "https://localhost:8080/"
        },
        "id": "g0Clx0jMHokz",
        "outputId": "48a14735-3065-41ac-af2e-bd4e84359bc6"
      },
      "execution_count": 29,
      "outputs": [
        {
          "output_type": "execute_result",
          "data": {
            "text/plain": [
              "['Rektor',\n",
              " 'Warek 2',\n",
              " 'Warek 1',\n",
              " 'Kaprodi 1',\n",
              " 'Kaprodi 2',\n",
              " 'Kaprodi 3',\n",
              " 'Dosen B',\n",
              " 'Dosen C',\n",
              " 'Dosen A',\n",
              " 'Dosen E',\n",
              " 'Dosen D',\n",
              " 'Dosen F',\n",
              " 'Dosen G']"
            ]
          },
          "metadata": {},
          "execution_count": 29
        }
      ]
    },
    {
      "cell_type": "code",
      "source": [
        "bfs (graphRektor, 'Dosen B')"
      ],
      "metadata": {
        "colab": {
          "base_uri": "https://localhost:8080/"
        },
        "id": "b53uaw-oI-tA",
        "outputId": "ba21d448-df96-40a4-d42a-eea26e3b360b"
      },
      "execution_count": 30,
      "outputs": [
        {
          "output_type": "execute_result",
          "data": {
            "text/plain": [
              "['Dosen B',\n",
              " 'Kaprodi 1',\n",
              " 'Dosen C',\n",
              " 'Warek 2',\n",
              " 'Dosen A',\n",
              " 'Rektor',\n",
              " 'Kaprodi 2',\n",
              " 'Kaprodi 3',\n",
              " 'Warek 1',\n",
              " 'Dosen E',\n",
              " 'Dosen D',\n",
              " 'Dosen F',\n",
              " 'Dosen G']"
            ]
          },
          "metadata": {},
          "execution_count": 30
        }
      ]
    },
    {
      "cell_type": "code",
      "source": [
        "def dfs (graph, start, visited = None):\n",
        "  if visited is None:\n",
        "    visited = set()\n",
        "  visited.add(start)\n",
        "  print (start)\n",
        "  for next in graph[start] -visited:\n",
        "    dfs(graph, next, visited)\n",
        "  \n",
        "  return visited"
      ],
      "metadata": {
        "id": "E7Z9MZN9O2JY"
      },
      "execution_count": 31,
      "outputs": []
    },
    {
      "cell_type": "code",
      "source": [
        "dfs(graph, 'Amin')"
      ],
      "metadata": {
        "colab": {
          "base_uri": "https://localhost:8080/"
        },
        "id": "n2pdfyj6SCoN",
        "outputId": "c6072442-2a75-4f2c-d061-e9a7655ab4e4"
      },
      "execution_count": 32,
      "outputs": [
        {
          "output_type": "stream",
          "name": "stdout",
          "text": [
            "Amin\n",
            "Wasim\n",
            "Imran\n",
            "Faras\n",
            "Mike\n",
            "Nick\n"
          ]
        },
        {
          "output_type": "execute_result",
          "data": {
            "text/plain": [
              "{'Amin', 'Faras', 'Imran', 'Mike', 'Nick', 'Wasim'}"
            ]
          },
          "metadata": {},
          "execution_count": 32
        }
      ]
    },
    {
      "cell_type": "code",
      "source": [
        "dfs (graph, 'Wasim')"
      ],
      "metadata": {
        "colab": {
          "base_uri": "https://localhost:8080/"
        },
        "id": "zoi8AC5xUihT",
        "outputId": "6f9d8665-2ad0-4697-bf9c-bc8496eb6d6f"
      },
      "execution_count": 33,
      "outputs": [
        {
          "output_type": "stream",
          "name": "stdout",
          "text": [
            "Wasim\n",
            "Amin\n",
            "Mike\n",
            "Nick\n",
            "Imran\n",
            "Faras\n"
          ]
        },
        {
          "output_type": "execute_result",
          "data": {
            "text/plain": [
              "{'Amin', 'Faras', 'Imran', 'Mike', 'Nick', 'Wasim'}"
            ]
          },
          "metadata": {},
          "execution_count": 33
        }
      ]
    },
    {
      "cell_type": "code",
      "source": [
        "dfs (graph, 'Faras')"
      ],
      "metadata": {
        "colab": {
          "base_uri": "https://localhost:8080/"
        },
        "id": "hp4NfOn_UnXT",
        "outputId": "efb62267-5788-4c38-93ac-14bcb883d30d"
      },
      "execution_count": 34,
      "outputs": [
        {
          "output_type": "stream",
          "name": "stdout",
          "text": [
            "Faras\n",
            "Imran\n",
            "Wasim\n",
            "Amin\n",
            "Mike\n",
            "Nick\n"
          ]
        },
        {
          "output_type": "execute_result",
          "data": {
            "text/plain": [
              "{'Amin', 'Faras', 'Imran', 'Mike', 'Nick', 'Wasim'}"
            ]
          },
          "metadata": {},
          "execution_count": 34
        }
      ]
    },
    {
      "cell_type": "code",
      "source": [
        "dfs (graph, 'Nick')"
      ],
      "metadata": {
        "colab": {
          "base_uri": "https://localhost:8080/"
        },
        "id": "FRG1O0XzUrX-",
        "outputId": "47f18065-8b8f-409e-8241-3ec0296f2865"
      },
      "execution_count": 35,
      "outputs": [
        {
          "output_type": "stream",
          "name": "stdout",
          "text": [
            "Nick\n",
            "Amin\n",
            "Wasim\n",
            "Imran\n",
            "Faras\n",
            "Mike\n"
          ]
        },
        {
          "output_type": "execute_result",
          "data": {
            "text/plain": [
              "{'Amin', 'Faras', 'Imran', 'Mike', 'Nick', 'Wasim'}"
            ]
          },
          "metadata": {},
          "execution_count": 35
        }
      ]
    },
    {
      "cell_type": "code",
      "source": [
        "dfs (graphRektor, 'Kaprodi 2')"
      ],
      "metadata": {
        "colab": {
          "base_uri": "https://localhost:8080/"
        },
        "id": "qV8exiKIUwF7",
        "outputId": "03df9c28-4162-4c24-f3d2-d46e256c715b"
      },
      "execution_count": 36,
      "outputs": [
        {
          "output_type": "stream",
          "name": "stdout",
          "text": [
            "Kaprodi 2\n",
            "Warek 2\n",
            "Kaprodi 1\n",
            "Dosen B\n",
            "Dosen A\n",
            "Dosen C\n",
            "Rektor\n",
            "Warek 1\n",
            "Kaprodi 3\n",
            "Dosen F\n",
            "Dosen G\n",
            "Dosen E\n",
            "Dosen D\n"
          ]
        },
        {
          "output_type": "execute_result",
          "data": {
            "text/plain": [
              "{'Dosen A',\n",
              " 'Dosen B',\n",
              " 'Dosen C',\n",
              " 'Dosen D',\n",
              " 'Dosen E',\n",
              " 'Dosen F',\n",
              " 'Dosen G',\n",
              " 'Kaprodi 1',\n",
              " 'Kaprodi 2',\n",
              " 'Kaprodi 3',\n",
              " 'Rektor',\n",
              " 'Warek 1',\n",
              " 'Warek 2'}"
            ]
          },
          "metadata": {},
          "execution_count": 36
        }
      ]
    }
  ]
}